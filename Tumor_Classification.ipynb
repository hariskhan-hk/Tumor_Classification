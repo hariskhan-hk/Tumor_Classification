{
  "nbformat": 4,
  "nbformat_minor": 0,
  "metadata": {
    "colab": {
      "provenance": [],
      "authorship_tag": "ABX9TyMa1LWUne6I+TN2n3Xdqtvu",
      "include_colab_link": true
    },
    "kernelspec": {
      "name": "python3",
      "display_name": "Python 3"
    },
    "language_info": {
      "name": "python"
    }
  },
  "cells": [
    {
      "cell_type": "markdown",
      "metadata": {
        "id": "view-in-github",
        "colab_type": "text"
      },
      "source": [
        "<a href=\"https://colab.research.google.com/github/hariskhan-hk/Tumor_Classification/blob/main/Tumor_Classification.ipynb\" target=\"_parent\"><img src=\"https://colab.research.google.com/assets/colab-badge.svg\" alt=\"Open In Colab\"/></a>"
      ]
    },
    {
      "cell_type": "markdown",
      "source": [
        "# Tumor Classification"
      ],
      "metadata": {
        "id": "MkbonF2ijbYp"
      }
    },
    {
      "cell_type": "markdown",
      "source": [
        "# I. Import Required Dependecies"
      ],
      "metadata": {
        "id": "29Kx1au-jioA"
      }
    },
    {
      "cell_type": "code",
      "execution_count": 2,
      "metadata": {
        "id": "ay_egRirjUn7"
      },
      "outputs": [],
      "source": [
        "import os\n",
        "import glob\n",
        "from IPython.display import Image as IPImage\n",
        "import pandas as pd\n",
        "import numpy as np\n",
        "import matplotlib.pyplot as plt\n",
        "import seaborn as sns\n",
        "from PIL import Image           # Pillow - for image processing tasks\n",
        "\n",
        "# TensorFlow - for deep learning operations and model management\n",
        "import tensorflow as tf\n",
        "from tensorflow import keras\n",
        "from tensorflow.keras.utils import plot_model\n",
        "\n",
        "# Keras - for building and training neural network models\n",
        "from keras.layers import Flatten, Dense, Activation, Dropout\n",
        "from keras import models, optimizers\n",
        "from keras.models import Sequential\n",
        "from keras.constraints import MaxNorm\n",
        "from keras.callbacks import ModelCheckpoint\n",
        "from keras.optimizers import Adam, Adamax\n",
        "from tensorflow.keras.preprocessing.image import ImageDataGenerator\n",
        "from keras.models import model_from_json\n",
        "from keras.regularizers import l2\n",
        "from keras.layers import Conv2D, MaxPooling2D\n",
        "from keras.applications.vgg16 import VGG16, preprocess_input\n",
        "from keras.applications import DenseNet121\n",
        "from keras.applications.densenet import DenseNet121, preprocess_input\n",
        "\n",
        "# scikit-learn - for data splitting and model evaluation utilities\n",
        "from sklearn.model_selection import train_test_split"
      ]
    }
  ]
}